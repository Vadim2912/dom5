{
 "cells": [
  {
   "cell_type": "code",
   "execution_count": null,
   "metadata": {},
   "outputs": [],
   "source": [
    "Домашнее задание\n",
    "Переведите содержимое файла purchase_log.txt в словарь purchases вида:\n",
    "{'1840e0b9d4': 'Продукты', ...}\n",
    "Для каждого user_id в файле visit_log.csv добавьте третий столбец с категорией покупки (если покупка была).\n",
    "Запишите в файл funnel.csv визиты из файла visit_log.csv, в которых были покупки с указанием категории.\n",
    "Учтите условия на данные:\n",
    "содержимое purchase_log.txt помещается в оперативную память компьютера\n",
    "содержимое visit_log.csv - нет; используйте только построчную обработку этого файла"
   ]
  },
  {
   "cell_type": "code",
   "execution_count": 4,
   "metadata": {},
   "outputs": [],
   "source": [
    "import json"
   ]
  },
  {
   "cell_type": "code",
   "execution_count": 6,
   "metadata": {},
   "outputs": [
    {
     "name": "stdout",
     "output_type": "stream",
     "text": [
      "c9d93ee37c - ['Продукты', 'Электроника']\n",
      "6cd9581955 - ['Досуг', 'Электроника']\n",
      "735284e60a - ['Электроника', 'Бытовая техника']\n",
      "66eb0896dd - ['Электроника', 'Продукты']\n",
      "2b95759653 - ['Электроника', 'Досуг']\n",
      "c128f25790 - ['Электроника', 'Продукты']\n",
      "8db7dee4e5 - ['Досуг', 'Бытовая техника']\n",
      "eac6f49767 - ['Продукты', 'Бытовая техника']\n",
      "0f67a45667 - ['Бытовая техника', 'Электроника']\n",
      "79ccbb3fd4 - ['Электроника', 'Бытовая техника']\n",
      "a0e85fc020 - ['Строительство и ремонт', 'Электроника']\n"
     ]
    }
   ],
   "source": [
    "i = 0\n",
    "new_dict = {}\n",
    "\n",
    "with open('purchase_log.txt', encoding='utf-8') as f:\n",
    "    f.readline()\n",
    "    for line in f:\n",
    "        line = line.strip()\n",
    "        dict_ = json.loads(line)\n",
    "        new_dict.setdefault(dict_['user_id'], [])\n",
    "        new_dict[dict_['user_id']].append(dict_['category'])\n",
    "x = 0\n",
    "for k, v in new_dict.items():\n",
    "    if len(v) > 1:\n",
    "        print(f'{k} - {v}')\n",
    "        x += 1\n",
    "        if x > 10:\n",
    "            break\n",
    "\n"
   ]
  },
  {
   "cell_type": "code",
   "execution_count": 10,
   "metadata": {},
   "outputs": [
    {
     "name": "stdout",
     "output_type": "stream",
     "text": [
      "user_id,source, purchases\n",
      "\n",
      "1840e0b9d4, other, Продукты\n",
      "\n",
      "4e4f90fcfb, context, Электроника\n",
      "\n",
      "afea8d72fc, other, Электроника\n",
      "\n",
      "2824221f38, email, Продукты\n",
      "\n",
      "373a6055fe, other, Бытовая техника\n",
      "\n",
      "9b2ab046f3, other, Электроника\n",
      "\n",
      "9f39d307c3, context, Электроника\n",
      "\n",
      "44edeffc91, context, Продукты\n",
      "\n",
      "704474fa2d, other, Продукты\n",
      "\n",
      "1de31be403, other, Бытовая техника\n",
      "\n"
     ]
    }
   ],
   "source": [
    "with open('visit_log.csv', 'r', encoding='utf-8') as visits:\n",
    "    with open('funnel.csv', 'a', encoding='utf-8') as funnel:\n",
    "        headers = visits.readline()\n",
    "        funnel.write(headers.strip() + ', purchases\\n')\n",
    "        for visit in visits:\n",
    "            visit = visit.strip().split(',')\n",
    "            if new_dict.get(visit[0]):\n",
    "                visit_ = ', '.join(new_dict.get(visit[0]))\n",
    "                visit.append(visit_)\n",
    "                visit = ', '.join(visit)+'\\n'\n",
    "                funnel.write(visit)\n",
    "\n",
    "x = 0\n",
    "with open('funnel.csv', 'r', encoding='utf-8') as f:\n",
    "    for i in f:\n",
    "        print(i)\n",
    "        x += 1\n",
    "        if x > 10:\n",
    "            break\n"
   ]
  },
  {
   "cell_type": "code",
   "execution_count": null,
   "metadata": {},
   "outputs": [],
   "source": []
  }
 ],
 "metadata": {
  "kernelspec": {
   "display_name": "Python 3",
   "language": "python",
   "name": "python3"
  },
  "language_info": {
   "codemirror_mode": {
    "name": "ipython",
    "version": 3
   },
   "file_extension": ".py",
   "mimetype": "text/x-python",
   "name": "python",
   "nbconvert_exporter": "python",
   "pygments_lexer": "ipython3",
   "version": "3.7.3"
  }
 },
 "nbformat": 4,
 "nbformat_minor": 2
}
